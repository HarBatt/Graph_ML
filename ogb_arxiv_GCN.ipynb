{
  "cells": [
    {
      "cell_type": "markdown",
      "metadata": {
        "id": "m4JrEmUVEYjQ"
      },
      "source": [
        "# Introduction\n",
        "In this notebook, we will be building a Graph Convolutional Network on the `ogbn-arxiv` citation network and trying to match performance to the [OGB Leaderboard for Node Property Prediction](https://ogb.stanford.edu/docs/leader_nodeprop/#ogbn-arxiv).  Once we can faithfully re-create this, we will move on to implementing improvements and tweaks found in the [Bag of Tricks for Node Classification with Graph Neural Networks](https://arxiv.org/abs/2103.13355) paper.\n",
        "\n",
        "# What you need to do\n",
        "## Basics \n",
        "With few exceptions, you only need to implement the PyTorch/DGL model code and everything else is written to train and evaluate.  Sections you need to write code for will be marked with a \"TODO\" comment.  As a first pass, do not modify any of the code *except where indicated* so that troubleshooting will be easier if you run into problems.\n",
        "\n",
        "## Improvements\n",
        "Once you have a correct implementation and can match leaderboard performance, we can move on to experimentation.  In this section, we will implement a few ideas from the [\"Bag of Tricks\"](https://arxiv.org/abs/2103.13355) paper, which should give improvements above baseline GCN and move you several positions up the leaderboard.  \n",
        "\n",
        "## Statistics\n",
        "At the end of each section, there is code for repeating your experiment 10 times to collect statistics on performance since any single run might be (un)lucky and give unrepresentative performance.  This also allows us to make apples-to-apples comparisons to the leaderboard.  However, this process takes significant time.  Feel free to skip these cells until after you've finished implementing all sections and then you can collect statistics e.g., overnight if you wish.\n",
        "\n",
        "## Extra Credit \n",
        "A great way to learn is to 1) read other peoples' code and 2) tinker.  If you want to maximize your learning, the Extra Credit section will provide a few directions for further exploration.  As part of this, it's recommended you find another submission on the OGB Leaderboard and try to re-create its submission.  This will likely involve reading the paper and code, which is great practice.  If you do something interesting and novel, we'll kindly host it in a public repo as an example of your glory (if you wish).\n",
        "\n",
        "***\n",
        "\n",
        "# Boilerplate"
      ]
    },
    {
      "cell_type": "code",
      "execution_count": 140,
      "metadata": {
        "id": "LOOKgLWrEYjY"
      },
      "outputs": [],
      "source": [
        "import os\n",
        "import math\n",
        "from copy import deepcopy\n",
        "from pathlib import Path\n",
        "import numpy as np\n",
        "import pandas as pd\n",
        "from scipy import stats\n",
        "\n",
        "import torch\n",
        "import torch.nn as nn\n",
        "from torch import optim\n",
        "import torch.nn.functional as F\n",
        "\n",
        "import matplotlib.pyplot as plt\n",
        "%matplotlib inline"
      ]
    },
    {
      "cell_type": "code",
      "execution_count": 141,
      "metadata": {
        "colab": {
          "base_uri": "https://localhost:8080/"
        },
        "id": "tcBTsIDCEYja",
        "outputId": "4e6903d8-5a07-4157-a616-68a003e61caf"
      },
      "outputs": [
        {
          "output_type": "stream",
          "name": "stdout",
          "text": [
            "Torch version: 1.10.0+cu111.  CUDA version: 11.1\n"
          ]
        }
      ],
      "source": [
        "print(f\"Torch version: {torch.__version__}.  CUDA version: {torch.version.cuda}\")"
      ]
    },
    {
      "cell_type": "code",
      "execution_count": 4,
      "metadata": {
        "scrolled": true,
        "colab": {
          "base_uri": "https://localhost:8080/"
        },
        "id": "rAeSCy1kEYjc",
        "outputId": "eef566c3-92bd-4463-95a2-279ced650e1a"
      },
      "outputs": [
        {
          "output_type": "stream",
          "name": "stdout",
          "text": [
            "Looking in links: https://data.dgl.ai/wheels/repo.html\n",
            "Collecting dgl-cu101\n",
            "  Downloading https://data.dgl.ai/wheels/dgl_cu101-0.8.0.post2-cp37-cp37m-manylinux1_x86_64.whl (150.1 MB)\n",
            "\u001b[K     |████████████████████████████████| 150.1 MB 62 kB/s \n",
            "\u001b[?25hRequirement already satisfied: scipy>=1.1.0 in /usr/local/lib/python3.7/dist-packages (from dgl-cu101) (1.4.1)\n",
            "Requirement already satisfied: numpy>=1.14.0 in /usr/local/lib/python3.7/dist-packages (from dgl-cu101) (1.21.5)\n",
            "Requirement already satisfied: tqdm in /usr/local/lib/python3.7/dist-packages (from dgl-cu101) (4.63.0)\n",
            "Requirement already satisfied: networkx>=2.1 in /usr/local/lib/python3.7/dist-packages (from dgl-cu101) (2.6.3)\n",
            "Requirement already satisfied: requests>=2.19.0 in /usr/local/lib/python3.7/dist-packages (from dgl-cu101) (2.23.0)\n",
            "Requirement already satisfied: urllib3!=1.25.0,!=1.25.1,<1.26,>=1.21.1 in /usr/local/lib/python3.7/dist-packages (from requests>=2.19.0->dgl-cu101) (1.24.3)\n",
            "Requirement already satisfied: chardet<4,>=3.0.2 in /usr/local/lib/python3.7/dist-packages (from requests>=2.19.0->dgl-cu101) (3.0.4)\n",
            "Requirement already satisfied: certifi>=2017.4.17 in /usr/local/lib/python3.7/dist-packages (from requests>=2.19.0->dgl-cu101) (2021.10.8)\n",
            "Requirement already satisfied: idna<3,>=2.5 in /usr/local/lib/python3.7/dist-packages (from requests>=2.19.0->dgl-cu101) (2.10)\n",
            "Installing collected packages: dgl-cu101\n",
            "Successfully installed dgl-cu101-0.8.0.post2\n"
          ]
        }
      ],
      "source": [
        "# Follow instructions at https://www.dgl.ai/pages/start.html\n",
        "!pip install dgl-cu101 -f https://data.dgl.ai/wheels/repo.html"
      ]
    },
    {
      "cell_type": "code",
      "execution_count": 5,
      "metadata": {
        "scrolled": true,
        "colab": {
          "base_uri": "https://localhost:8080/"
        },
        "id": "zCJTQgnzEYjc",
        "outputId": "67c76fe3-db32-4e92-9048-b3887dae447c"
      },
      "outputs": [
        {
          "output_type": "stream",
          "name": "stdout",
          "text": [
            "Collecting ogb\n",
            "  Downloading ogb-1.3.3-py3-none-any.whl (78 kB)\n",
            "\u001b[?25l\r\u001b[K     |████▏                           | 10 kB 40.6 MB/s eta 0:00:01\r\u001b[K     |████████▍                       | 20 kB 30.2 MB/s eta 0:00:01\r\u001b[K     |████████████▋                   | 30 kB 19.3 MB/s eta 0:00:01\r\u001b[K     |████████████████▊               | 40 kB 16.5 MB/s eta 0:00:01\r\u001b[K     |█████████████████████           | 51 kB 12.1 MB/s eta 0:00:01\r\u001b[K     |█████████████████████████▏      | 61 kB 14.2 MB/s eta 0:00:01\r\u001b[K     |█████████████████████████████▎  | 71 kB 14.9 MB/s eta 0:00:01\r\u001b[K     |████████████████████████████████| 78 kB 5.6 MB/s \n",
            "\u001b[?25hRequirement already satisfied: urllib3>=1.24.0 in /usr/local/lib/python3.7/dist-packages (from ogb) (1.24.3)\n",
            "Requirement already satisfied: six>=1.12.0 in /usr/local/lib/python3.7/dist-packages (from ogb) (1.15.0)\n",
            "Collecting outdated>=0.2.0\n",
            "  Downloading outdated-0.2.1-py3-none-any.whl (7.5 kB)\n",
            "Requirement already satisfied: scikit-learn>=0.20.0 in /usr/local/lib/python3.7/dist-packages (from ogb) (1.0.2)\n",
            "Requirement already satisfied: pandas>=0.24.0 in /usr/local/lib/python3.7/dist-packages (from ogb) (1.3.5)\n",
            "Requirement already satisfied: numpy>=1.16.0 in /usr/local/lib/python3.7/dist-packages (from ogb) (1.21.5)\n",
            "Requirement already satisfied: tqdm>=4.29.0 in /usr/local/lib/python3.7/dist-packages (from ogb) (4.63.0)\n",
            "Requirement already satisfied: torch>=1.6.0 in /usr/local/lib/python3.7/dist-packages (from ogb) (1.10.0+cu111)\n",
            "Requirement already satisfied: requests in /usr/local/lib/python3.7/dist-packages (from outdated>=0.2.0->ogb) (2.23.0)\n",
            "Collecting littleutils\n",
            "  Downloading littleutils-0.2.2.tar.gz (6.6 kB)\n",
            "Requirement already satisfied: pytz>=2017.3 in /usr/local/lib/python3.7/dist-packages (from pandas>=0.24.0->ogb) (2018.9)\n",
            "Requirement already satisfied: python-dateutil>=2.7.3 in /usr/local/lib/python3.7/dist-packages (from pandas>=0.24.0->ogb) (2.8.2)\n",
            "Requirement already satisfied: joblib>=0.11 in /usr/local/lib/python3.7/dist-packages (from scikit-learn>=0.20.0->ogb) (1.1.0)\n",
            "Requirement already satisfied: scipy>=1.1.0 in /usr/local/lib/python3.7/dist-packages (from scikit-learn>=0.20.0->ogb) (1.4.1)\n",
            "Requirement already satisfied: threadpoolctl>=2.0.0 in /usr/local/lib/python3.7/dist-packages (from scikit-learn>=0.20.0->ogb) (3.1.0)\n",
            "Requirement already satisfied: typing-extensions in /usr/local/lib/python3.7/dist-packages (from torch>=1.6.0->ogb) (3.10.0.2)\n",
            "Requirement already satisfied: idna<3,>=2.5 in /usr/local/lib/python3.7/dist-packages (from requests->outdated>=0.2.0->ogb) (2.10)\n",
            "Requirement already satisfied: certifi>=2017.4.17 in /usr/local/lib/python3.7/dist-packages (from requests->outdated>=0.2.0->ogb) (2021.10.8)\n",
            "Requirement already satisfied: chardet<4,>=3.0.2 in /usr/local/lib/python3.7/dist-packages (from requests->outdated>=0.2.0->ogb) (3.0.4)\n",
            "Building wheels for collected packages: littleutils\n",
            "  Building wheel for littleutils (setup.py) ... \u001b[?25l\u001b[?25hdone\n",
            "  Created wheel for littleutils: filename=littleutils-0.2.2-py3-none-any.whl size=7048 sha256=d73cf65c5cb784a90c682960321f029acf3965b7f2d8ad896f68d390c506aad7\n",
            "  Stored in directory: /root/.cache/pip/wheels/d6/64/cd/32819b511a488e4993f2fab909a95330289c3f4e0f6ef4676d\n",
            "Successfully built littleutils\n",
            "Installing collected packages: littleutils, outdated, ogb\n",
            "Successfully installed littleutils-0.2.2 ogb-1.3.3 outdated-0.2.1\n"
          ]
        }
      ],
      "source": [
        "!pip install ogb"
      ]
    },
    {
      "cell_type": "code",
      "execution_count": 142,
      "metadata": {
        "id": "w0Xb_EW8EYjd"
      },
      "outputs": [],
      "source": [
        "os.environ['DGLBACKEND'] = 'pytorch'\n",
        "import dgl\n",
        "from dgl.nn import GraphConv\n",
        "from ogb.nodeproppred import DglNodePropPredDataset, Evaluator"
      ]
    },
    {
      "cell_type": "code",
      "execution_count": 143,
      "metadata": {
        "colab": {
          "base_uri": "https://localhost:8080/"
        },
        "id": "ZY-ZhqkdEYje",
        "outputId": "e55d6ef3-69e7-4151-cbc3-f2d5655718dd"
      },
      "outputs": [
        {
          "output_type": "execute_result",
          "data": {
            "text/plain": [
              "device(type='cuda')"
            ]
          },
          "metadata": {},
          "execution_count": 143
        }
      ],
      "source": [
        "device = 'cuda' if torch.cuda.is_available() else 'cpu'\n",
        "device = torch.device(device)\n",
        "device"
      ]
    },
    {
      "cell_type": "markdown",
      "metadata": {
        "id": "ndU_CRAqEYjf"
      },
      "source": [
        "## Helper functions"
      ]
    },
    {
      "cell_type": "code",
      "execution_count": 144,
      "metadata": {
        "id": "iAUUPwOrEYjf"
      },
      "outputs": [],
      "source": [
        "def plot_losses(train_losses, val_losses, log=False):\n",
        "    \"\"\"\n",
        "    Plots train/validation loss curves vs training epoch\n",
        "    \"\"\"\n",
        "    fig, ax = plt.subplots()\n",
        "\n",
        "    ax.plot(train_losses, label='Train')\n",
        "    ax.plot(val_losses, label='Val')\n",
        "    ax.set(xlabel='Epoch', ylabel='CrossEnt')\n",
        "    if log:\n",
        "        ax.set_yscale('log')\n",
        "    ax.legend()\n",
        "    ax.grid()\n",
        "    \n",
        "def train(g, labels, split_idx, model, epochs, evaluator, \n",
        "          device, save_path, loss_fn=F.cross_entropy, lr=0.01, es_criteria=5, verbose=False):\n",
        "    \"\"\"\n",
        "    A standard interface for model training.  Should be no reason to change this unless you \n",
        "    want to add improvements (e.g., learning rate scheduler).\n",
        "    \"\"\"\n",
        "    optimizer = optim.Adam(model.parameters(), lr=lr)\n",
        "    best_val_acc = 0\n",
        "    best_test_acc = 0\n",
        "    train_losses = list()\n",
        "    val_losses = list()\n",
        "\n",
        "    features = g.ndata['feat']\n",
        "    \n",
        "    train_mask = split_idx['train'].to(device)\n",
        "    val_mask = split_idx['valid'].to(device)\n",
        "    test_mask = split_idx['test'].to(device)\n",
        "    es_iters = 0\n",
        "    \n",
        "    for e in range(1, epochs+1):\n",
        "        \n",
        "        train_loss, val_loss = train_step(\n",
        "            model, g, features, labels, train_mask, val_mask, optimizer, loss_fn\n",
        "        )\n",
        "        train_losses.append(train_loss)\n",
        "        val_losses.append(val_loss)\n",
        "\n",
        "        # Compute accuracy on training/validation/test\n",
        "        train_acc, val_acc, test_acc = test(model, g, labels, split_idx, evaluator)\n",
        "\n",
        "        # Save the best validation accuracy and the corresponding test accuracy.\n",
        "        if best_val_acc < val_acc:\n",
        "            best_val_acc = val_acc\n",
        "            best_test_acc = test_acc\n",
        "            torch.save(model.state_dict(), save_path)\n",
        "            es_iters = 0\n",
        "        else:\n",
        "            es_iters += 1\n",
        "            \n",
        "\n",
        "        if e % 50 == 0 and verbose:\n",
        "            print('In epoch {}, loss: {:.3f}, val acc: {:.3f} (best {:.3f}), test acc: {:.3f} (best {:.3f})'.format(\n",
        "                e, train_loss, val_acc, best_val_acc, test_acc, best_test_acc))\n",
        "            \n",
        "        if es_iters >= es_criteria:\n",
        "            print(f\"Early stopping at {e} epochs\")\n",
        "            break\n",
        "            \n",
        "    return np.array(train_losses), np.array(val_losses)\n",
        "\n",
        "def train_step(model, g, features, labels, train_mask, val_mask, optimizer, loss_fn):\n",
        "    \"\"\"\n",
        "    A single training step\n",
        "    \"\"\"\n",
        "    model.train()\n",
        "\n",
        "    optimizer.zero_grad()\n",
        "    logits = model(g, features)\n",
        "    loss = loss_fn(logits[train_mask], labels[train_mask])\n",
        "    loss.backward()\n",
        "    optimizer.step()\n",
        "    \n",
        "    with torch.no_grad():\n",
        "        val_loss = loss_fn(logits[val_mask], labels[val_mask])\n",
        "\n",
        "    return loss.item(), val_loss.item()\n",
        "\n",
        "@torch.no_grad()\n",
        "def test(model_cp, g, labels, split_idx, evaluator, best_path=None):\n",
        "    \"\"\"\n",
        "    Executes the OGB Evaluator to return accuracy for \n",
        "    the train, valid and test sets.  If passed in a model file path, \n",
        "    loads the parameters from that file, otherwise uses the model object\n",
        "    passed in.\n",
        "    \"\"\"\n",
        "    model = deepcopy(model_cp)\n",
        "    \n",
        "    if best_path is not None:\n",
        "        model.load_state_dict(torch.load(best_path))\n",
        "        \n",
        "    model.eval()\n",
        "    \n",
        "    features = g.ndata['feat']\n",
        "    logits = model(g, features)\n",
        "    y_pred = logits.argmax(1, keepdim=True)\n",
        "\n",
        "    train_acc = evaluator.eval({\n",
        "        'y_true': labels[split_idx['train']].reshape((-1,1)),\n",
        "        'y_pred': y_pred[split_idx['train']],\n",
        "    })['acc']\n",
        "    valid_acc = evaluator.eval({\n",
        "        'y_true': labels[split_idx['valid']].reshape((-1,1)),\n",
        "        'y_pred': y_pred[split_idx['valid']],\n",
        "    })['acc']\n",
        "    test_acc = evaluator.eval({\n",
        "        'y_true': labels[split_idx['test']].reshape((-1,1)),\n",
        "        'y_pred': y_pred[split_idx['test']],\n",
        "    })['acc']\n",
        "\n",
        "    return train_acc, valid_acc, test_acc\n",
        "\n",
        "def characterize_performance(model, g, labels, split_idx, evaluator, best_path, verbose=False):\n",
        "    \"\"\"\n",
        "    Gets performance and compares to the Leaderboard performance for GCN.\n",
        "    Optionally (`verbose=True`) will put the performance in context with the variation\n",
        "    reported on the Leaderboard and indicate whether performance is above/below \n",
        "    1-standard deviation from the mean, as given by Leaderboard.\n",
        "    \"\"\"\n",
        "    train_acc, val_acc, test_acc = test(model, g, labels, split_idx, evaluator, best_path)\n",
        "    print(\n",
        "        f\"Leaderboard:  Test Acc={test_acc_lb} +/- {test_acc_lb_var}, Val Acc={val_acc_lb} +/- {val_acc_lb_var}\\n\"\n",
        "        f\"Yours:        Test Acc={test_acc:.4f},            Val Acc={val_acc:.4f}\\n\"\n",
        "    )\n",
        "\n",
        "    val_lb = val_acc_lb - val_acc_lb_var\n",
        "    val_ub = val_acc_lb + val_acc_lb_var\n",
        "    \n",
        "    if verbose:\n",
        "        if not val_acc >= val_lb:\n",
        "            print(\n",
        "                f\"Validation performance is worse than LB.  Expected lower bound of {val_lb:.4f}, but got {val_acc:.4f}.\")\n",
        "        elif val_acc > val_ub:\n",
        "            print(\n",
        "                f\"Validation performance is better than LB.  Expected upper bound of {val_ub:.4f}, but got {val_acc:.4f}.\")\n",
        "        else: \n",
        "            print(\n",
        "                f\"Validation performance is in the expected range of {val_lb} - {val_ub}.\"\n",
        "            )\n",
        "    \n",
        "    test_lb = test_acc_lb - test_acc_lb_var\n",
        "    test_ub = test_acc_lb + test_acc_lb_var\n",
        "    if verbose:\n",
        "        if not test_acc >= test_lb:\n",
        "            print(\n",
        "                f\"Test performance is worse than LB.  Expected lower bound of {test_lb:.4f}, but got {test_acc:.4f}.\")\n",
        "\n",
        "        elif test_acc > test_ub:\n",
        "            print(\n",
        "                f\"Test performance is better than LB.  Expected upper bound of {test_ub:.4f}, but got {test_acc:.4f}.\")\n",
        "        else:\n",
        "            print(f\"Test performance is in the expected range of {test_lb} - {test_ub}.\")\n",
        "        \n",
        "    return val_acc, test_acc\n",
        "\n",
        "def norm_plot(curves, title):\n",
        "    \"\"\"\n",
        "    Plots normal distribution curves\n",
        "    curves: list of tuples like: (mu, sigma, label)\n",
        "    \"\"\"\n",
        "    fig, ax = plt.subplots()\n",
        "    for mu, sigma, label in curves:\n",
        "        x = np.linspace(mu - 3*sigma, mu + 3*sigma, 100)\n",
        "        ax.plot(x, stats.norm.pdf(x, mu, sigma), label=label)\n",
        "    \n",
        "    ax.set_title(title)\n",
        "    ax.legend()\n",
        "    \n",
        "def get_experiment_stats(model_cls, model_args, train_args, n_experiments=10):\n",
        "    \"\"\"\n",
        "    Runs an experiment multiple times to get a measure of variation\n",
        "    \"\"\"\n",
        "    results = dict()\n",
        "    for i in range(n_experiments):\n",
        "        model = model_cls(**model_args).to(train_args['device'])\n",
        "        print(f\"Starting training for experiment {i+1}\")\n",
        "        # Add experiment number to model save_path\n",
        "        train_args_cp = deepcopy(train_args)\n",
        "        save_path, file_ext = train_args_cp.pop('save_path').split('.')\n",
        "        save_path_mod = f\"{save_path}_{i}.{file_ext}\"\n",
        "        \n",
        "        train_losses, val_losses = train(model=model, save_path=save_path_mod, **train_args_cp)\n",
        "        val_acc, test_acc = characterize_performance(\n",
        "            model, train_args['g'], train_args['labels'], train_args['split_idx'], \n",
        "            train_args['evaluator'], save_path_mod, train_args.get('verbose', False))\n",
        "        \n",
        "        results[i] = dict(val_acc=val_acc, test_acc=test_acc)\n",
        "        print(\"Training complete\\n\")\n",
        "        \n",
        "    df_stats = pd.DataFrame(results).T.agg(['mean', 'std'])\n",
        "    return df_stats"
      ]
    },
    {
      "cell_type": "code",
      "execution_count": 145,
      "metadata": {
        "colab": {
          "base_uri": "https://localhost:8080/",
          "height": 281
        },
        "id": "oiZWESPVEYjl",
        "outputId": "112d0e63-e6c1-421b-f8b0-cbbbd531a5e7"
      },
      "outputs": [
        {
          "output_type": "display_data",
          "data": {
            "text/plain": [
              "<Figure size 432x288 with 1 Axes>"
            ],
            "image/png": "[encoded data removed]"
          },
          "metadata": {
            "needs_background": "light"
          }
        }
      ],
      "source": [
        "norm_plot([(0.4678, 0.0067, 'LB')], 'TMP MAG')"
      ]
    },
    {
      "cell_type": "markdown",
      "metadata": {
        "id": "s9q37JK0EYjm"
      },
      "source": [
        "# Basics\n",
        "## Get OGB dataset and GCN leaderboard performance\n",
        "We will use the `ogb` python package to download the data, give us the correct train/validation/test splits for proper comparison and an `Evaluator` to make sure performance is measured appropriately.  "
      ]
    },
    {
      "cell_type": "code",
      "execution_count": 146,
      "metadata": {
        "id": "eduF01EWEYjn"
      },
      "outputs": [],
      "source": [
        "dataset = DglNodePropPredDataset(name = \"ogbn-arxiv\", root = 'dataset/')"
      ]
    },
    {
      "cell_type": "code",
      "execution_count": 147,
      "metadata": {
        "id": "1ZzS-HikEYjn"
      },
      "outputs": [],
      "source": [
        "# Values from the OGB leaderboard of GCN, submitted May 1, 2020\n",
        "val_acc_lb, val_acc_lb_var, test_acc_lb, test_acc_lb_var = 0.7300, 0.0017, 0.7174, 0.0029\n",
        "evaluator = Evaluator(name = \"ogbn-arxiv\")"
      ]
    },
    {
      "cell_type": "code",
      "execution_count": 148,
      "metadata": {
        "id": "GK-0I641EYjo"
      },
      "outputs": [],
      "source": [
        "# Extract split indices, DGL graph and labels\n",
        "split_idx = dataset.get_idx_split()\n",
        "g = dataset.graph[0].to(device)\n",
        "labels = dataset.labels.flatten().to(device)"
      ]
    },
    {
      "cell_type": "code",
      "source": [
        "feat = g.ndata['feat']"
      ],
      "metadata": {
        "id": "OVm-uMJcoU_z"
      },
      "execution_count": 149,
      "outputs": []
    },
    {
      "cell_type": "code",
      "source": [
        "feat"
      ],
      "metadata": {
        "colab": {
          "base_uri": "https://localhost:8080/"
        },
        "id": "JZdis8TKpwc9",
        "outputId": "035aeeee-638b-4b00-8fbe-1d37e0d7b777"
      },
      "execution_count": 150,
      "outputs": [
        {
          "output_type": "execute_result",
          "data": {
            "text/plain": [
              "tensor([[-0.0579, -0.0525, -0.0726,  ...,  0.1734, -0.1728, -0.1401],\n",
              "        [-0.1245, -0.0707, -0.3252,  ...,  0.0685, -0.3721, -0.3010],\n",
              "        [-0.0802, -0.0233, -0.1838,  ...,  0.1099,  0.1176, -0.1399],\n",
              "        ...,\n",
              "        [-0.2205, -0.0366, -0.4022,  ...,  0.1134, -0.1614, -0.1452],\n",
              "        [-0.1382,  0.0409, -0.2518,  ..., -0.0893, -0.0413, -0.3761],\n",
              "        [-0.0299,  0.2684, -0.1611,  ...,  0.1208,  0.0776, -0.0910]],\n",
              "       device='cuda:0')"
            ]
          },
          "metadata": {},
          "execution_count": 150
        }
      ]
    },
    {
      "cell_type": "markdown",
      "metadata": {
        "id": "qZcALksbEYjo"
      },
      "source": [
        "### Important \n",
        "Add reverse edges and self-loops to the graph, or performance will severely suffer!  By default, the edges are *directed*, meaning an edge from node A -> B is not an edge from node B -> A.  We need to add these reverse edges.  Also, for GCN we need to add an edge from every node to itself (i.e., \"self-loops\").  Check the [DGL Documentation](https://docs.dgl.ai/) to learn how to make these manipulations."
      ]
    },
    {
      "cell_type": "code",
      "execution_count": 151,
      "metadata": {
        "id": "pqINWvdpEYjo"
      },
      "outputs": [],
      "source": [
        "# TODO\n",
        "g = g.add_self_loop().to('cpu')\n",
        "g = dgl.to_bidirected(g, copy_ndata = True).to('cuda')"
      ]
    },
    {
      "cell_type": "code",
      "source": [
        "g.num_edges()"
      ],
      "metadata": {
        "colab": {
          "base_uri": "https://localhost:8080/"
        },
        "id": "DuMEZQQEIDfq",
        "outputId": "3b315e12-2af9-47b7-eeaa-519b49ee9ed3"
      },
      "execution_count": 152,
      "outputs": [
        {
          "output_type": "execute_result",
          "data": {
            "text/plain": [
              "2484941"
            ]
          },
          "metadata": {},
          "execution_count": 152
        }
      ]
    },
    {
      "cell_type": "code",
      "source": [
        "g"
      ],
      "metadata": {
        "colab": {
          "base_uri": "https://localhost:8080/"
        },
        "id": "lZH9RhzpNeHF",
        "outputId": "88e5e7e5-65e5-43c0-bc31-d57d29f9db33"
      },
      "execution_count": 153,
      "outputs": [
        {
          "output_type": "execute_result",
          "data": {
            "text/plain": [
              "Graph(num_nodes=169343, num_edges=2484941,\n",
              "      ndata_schemes={'year': Scheme(shape=(1,), dtype=torch.int64), 'feat': Scheme(shape=(128,), dtype=torch.float32)}\n",
              "      edata_schemes={})"
            ]
          },
          "metadata": {},
          "execution_count": 153
        }
      ]
    },
    {
      "cell_type": "code",
      "source": [
        "g.ndata['feat'].shape"
      ],
      "metadata": {
        "colab": {
          "base_uri": "https://localhost:8080/"
        },
        "id": "GjxBa-fmrWx4",
        "outputId": "a80b2ef9-8646-4a75-8747-5259c0a32301"
      },
      "execution_count": 154,
      "outputs": [
        {
          "output_type": "execute_result",
          "data": {
            "text/plain": [
              "torch.Size([169343, 128])"
            ]
          },
          "metadata": {},
          "execution_count": 154
        }
      ]
    },
    {
      "cell_type": "code",
      "execution_count": 155,
      "metadata": {
        "id": "ORetnMsAEYjp"
      },
      "outputs": [],
      "source": [
        "# If this fails, you have a mistake\n",
        "assert g.num_edges() == 2484941, \"Number of edges isn't correct!  Make sure self-loop and reverse edges are added.\""
      ]
    },
    {
      "cell_type": "markdown",
      "metadata": {
        "id": "28MwUgOtEYjp"
      },
      "source": [
        "## Define GCN Model\n",
        "To match the performance on the Leaderboard, we'll need to implement our model using the same architecture as the submission.  Note that [their implementation](https://github.com/snap-stanford/ogb/blob/master/examples/nodeproppred/arxiv/gnn.py#L14) is using PyTorch Geometric, not DGL.  However, we can observe these key elements, which you'll need to reproduce:\n",
        "1. Graph Convolution layer\n",
        "  - Exploring the possible arguments (e.g., normalization, if a bias is included, \"improved\"...etc) could raise many questions, but the defaults of optional arguments between DGL and Geometric should give matching implementations (as of this writing).\n",
        "2. Batch Normalization layer\n",
        "  - Not applied to the final output layer\n",
        "3. ReLU activation\n",
        "  - Not applied to the final output layer\n",
        "4. Dropout\n",
        "  - Not applied to the final output layer\n",
        "  \n",
        "Your model output should be the *raw scores* coming from the final Graph Convolution layer (i.e., has shape `(num_nodes, num_classes)`.  The loss function will apply the Softmax activation when calculating the Cross Entropy."
      ]
    },
    {
      "cell_type": "code",
      "execution_count": 156,
      "metadata": {
        "id": "gyblY_GJEYjr"
      },
      "outputs": [],
      "source": [
        "import dgl.function as fn\n",
        "\n",
        "\n",
        "class GCN(nn.Module):\n",
        "    def __init__(self, in_features, out_features): # TODO:  Add arguments here needed to define model components\n",
        "        \"\"\"\n",
        "        Defines the architecture of your model.  All layers with learnable parameters should\n",
        "        be created in this method.  The `forward` method will define how to use the \n",
        "        layers created here.\n",
        "        \n",
        "        You will also need to add arguments to the `__init__` method that you need to \n",
        "        create your layers.  For example, you might want to include a `num_layers` argument\n",
        "        so that you can dynamically change the number of layers, and a `dropout` argument \n",
        "        so that this is easy to change.\n",
        "        \n",
        "        Args:\n",
        "            ?\n",
        "        \"\"\"\n",
        "        super(GCN, self).__init__()\n",
        "        self.hidden_dim = 256\n",
        "        # TODO: Define/initialize model components\n",
        "        self.layer1 = GraphConv(in_features, self.hidden_dim)\n",
        "        self.bn1 = nn.BatchNorm1d(self.hidden_dim)\n",
        "        self.layer2 = GraphConv(self.hidden_dim, self.hidden_dim)\n",
        "        self.bn2  = nn.BatchNorm1d(self.hidden_dim)\n",
        "        self.layer3 = GraphConv(self.hidden_dim, out_features)\n",
        "        self.dropout = nn.Dropout(0.5)\n",
        "        self.relu = nn.ReLU()\n",
        "        pass\n",
        "        \n",
        "\n",
        "    def forward(self, g, in_feat):\n",
        "        \"\"\"\n",
        "        The forward pass of the model, which applies all of the layers\n",
        "        to a given graph and set of node features\n",
        "        \n",
        "        Args:\n",
        "            g (DGLGraph): the graph used for Graph Convolutions\n",
        "            in_feat (Tensor): the node features\n",
        "        \"\"\"\n",
        "        # TODO: Stack model components to compute the forward pass \n",
        "        x = self.layer1(g, in_feat)\n",
        "        x = self.bn1(x)\n",
        "        x = self.relu(x)\n",
        "        x = self.dropout(x)\n",
        "        x = self.layer2(g, x)\n",
        "        x = self.bn2(x)\n",
        "        x = self.relu(x)\n",
        "        x = self.dropout(x)\n",
        "        x = self.layer3(g, x)\n",
        "        return x\n",
        "        pass"
      ]
    },
    {
      "cell_type": "markdown",
      "metadata": {
        "id": "_boC72PJEYjs"
      },
      "source": [
        "Put all of the arguments you added to the `__init__` method of your GCN model in a dictionary, where the key is the argument name and the value is the argument value.  For example:\n",
        "\n",
        "```python\n",
        "model_kwargs = dict(dropout=0.5, num_layers=3)\n",
        "```\n",
        "\n",
        "To match the Leaderboard performance, use the following hyperparameters:\n",
        "- Hidden layer size:  256\n",
        "- Total number of GCN layers (input + hidden + output):  3\n",
        "- Dropout: 0.5"
      ]
    },
    {
      "cell_type": "code",
      "execution_count": 158,
      "metadata": {
        "id": "F8rNJO7KEYjt"
      },
      "outputs": [],
      "source": [
        "model_kwargs = dict(\n",
        "    in_features = g.ndata['feat'].shape[1], out_features = dataset.num_classes\n",
        ")\n",
        "model = GCN(**model_kwargs).to(device)"
      ]
    },
    {
      "cell_type": "code",
      "execution_count": 157,
      "metadata": {
        "id": "Ch3MbLYKEYjt",
        "colab": {
          "base_uri": "https://localhost:8080/"
        },
        "outputId": "f4e6d1e1-aeed-44de-d9e0-6ab6e27a8596"
      },
      "outputs": [
        {
          "output_type": "execute_result",
          "data": {
            "text/plain": [
              "GCN(\n",
              "  (layer1): GraphConv(in=128, out=256, normalization=both, activation=None)\n",
              "  (bn1): BatchNorm1d(256, eps=1e-05, momentum=0.1, affine=True, track_running_stats=True)\n",
              "  (layer2): GraphConv(in=256, out=256, normalization=both, activation=None)\n",
              "  (bn2): BatchNorm1d(256, eps=1e-05, momentum=0.1, affine=True, track_running_stats=True)\n",
              "  (layer3): GraphConv(in=256, out=40, normalization=both, activation=None)\n",
              "  (dropout): Dropout(p=0.5, inplace=False)\n",
              "  (relu): ReLU()\n",
              ")"
            ]
          },
          "metadata": {},
          "execution_count": 157
        }
      ],
      "source": [
        "model"
      ]
    },
    {
      "cell_type": "code",
      "execution_count": 159,
      "metadata": {
        "id": "VHhyT8-CEYjt"
      },
      "outputs": [],
      "source": [
        "# If this fails, the number of parameters in your model doesn't match the leaderboard's\n",
        "# This means your architecture is different\n",
        "leader_parms = 110120\n",
        "model_parms = sum(p.numel() for p in model.parameters() if p.requires_grad)\n",
        "assert leader_parms == model_parms, \"Number of model parameters different than Leaderboard's\""
      ]
    },
    {
      "cell_type": "markdown",
      "metadata": {
        "id": "LbYEJYuCEYju"
      },
      "source": [
        "### GCN Training"
      ]
    },
    {
      "cell_type": "code",
      "execution_count": 160,
      "metadata": {
        "id": "IZtm45gcEYju"
      },
      "outputs": [],
      "source": [
        "# Where to save the best model\n",
        "model_path = 'models'\n",
        "Path(model_path).mkdir(parents=True, exist_ok=True)\n",
        "gcn_path = f\"{model_path}/gcn_base.model\""
      ]
    },
    {
      "cell_type": "code",
      "execution_count": 161,
      "metadata": {
        "id": "K0Fqq-BdEYju"
      },
      "outputs": [],
      "source": [
        "train_args = dict(\n",
        "    g=g, labels=labels, split_idx=split_idx, \n",
        "    epochs=500, evaluator=evaluator, device=device, \n",
        "    save_path=gcn_path, lr=5e-3, es_criteria=50,\n",
        ")"
      ]
    },
    {
      "cell_type": "markdown",
      "metadata": {
        "id": "COQ4erjHEYju"
      },
      "source": [
        "#### Single run\n",
        "Make sure results are reasonable before collecting statistics"
      ]
    },
    {
      "cell_type": "code",
      "execution_count": 113,
      "metadata": {
        "id": "rN0pn5iXEYjv",
        "colab": {
          "base_uri": "https://localhost:8080/"
        },
        "outputId": "3cf6f422-5d71-4ed0-8af5-a22a1c1ad941"
      },
      "outputs": [
        {
          "output_type": "stream",
          "name": "stdout",
          "text": [
            "In epoch 50, loss: 1.034, val acc: 0.703 (best 0.703), test acc: 0.698 (best 0.698)\n",
            "In epoch 100, loss: 0.935, val acc: 0.718 (best 0.719), test acc: 0.710 (best 0.710)\n",
            "In epoch 150, loss: 0.878, val acc: 0.720 (best 0.722), test acc: 0.711 (best 0.714)\n",
            "In epoch 200, loss: 0.841, val acc: 0.723 (best 0.726), test acc: 0.712 (best 0.720)\n",
            "In epoch 250, loss: 0.808, val acc: 0.724 (best 0.728), test acc: 0.710 (best 0.718)\n",
            "In epoch 300, loss: 0.783, val acc: 0.727 (best 0.730), test acc: 0.716 (best 0.719)\n",
            "Early stopping at 331 epochs\n"
          ]
        }
      ],
      "source": [
        "train_losses, val_losses = train(model=model, verbose=True, **train_args)"
      ]
    },
    {
      "cell_type": "code",
      "execution_count": 114,
      "metadata": {
        "id": "8veUkvDxEYjv",
        "colab": {
          "base_uri": "https://localhost:8080/",
          "height": 279
        },
        "outputId": "a57571a9-aff6-4f7d-86d1-4fcb0eed206c"
      },
      "outputs": [
        {
          "output_type": "display_data",
          "data": {
            "text/plain": [
              "<Figure size 432x288 with 1 Axes>"
            ],
            "image/png": "[encoded data removed]"
          },
          "metadata": {
            "needs_background": "light"
          }
        }
      ],
      "source": [
        "plot_losses(train_losses, val_losses, log=True)"
      ]
    },
    {
      "cell_type": "markdown",
      "metadata": {
        "id": "qZpNmGhXEYjv"
      },
      "source": [
        "The Leaderboard reports the average performance and the standard deviation across 10 trials.  This will evaluate whether your model's performance is within 1 standard deviation of the mean (expected to happen in 68% of cases if your model has the same performance as the leaderboard).  It will report your performance as \"Worse\" if it's less than $\\mu - \\sigma$ and \"Better\" if it's greater than $\\mu + \\sigma$ (where $\\mu$ is the average and $\\sigma$ is the standard deviation).  Even if your performance is identical, this will be wrong in ~32% of cases, so try a few times if it's close, or consider the $\\pm 2\\sigma$ range instead for 95% confidence."
      ]
    },
    {
      "cell_type": "code",
      "execution_count": 115,
      "metadata": {
        "id": "ZQVjfKD8EYjw",
        "colab": {
          "base_uri": "https://localhost:8080/"
        },
        "outputId": "30f0eb35-0c6c-46ca-fe70-7b581e9e037b"
      },
      "outputs": [
        {
          "output_type": "stream",
          "name": "stdout",
          "text": [
            "Leaderboard:  Test Acc=0.7174 +/- 0.0029, Val Acc=0.73 +/- 0.0017\n",
            "Yours:        Test Acc=0.7193,            Val Acc=0.7299\n",
            "\n",
            "Validation performance is in the expected range of 0.7283 - 0.7317.\n",
            "Test performance is in the expected range of 0.7145 - 0.7203.\n"
          ]
        }
      ],
      "source": [
        "_ = characterize_performance(model, g, labels, split_idx, evaluator, gcn_path, verbose=True)"
      ]
    },
    {
      "cell_type": "markdown",
      "metadata": {
        "id": "PLfBI9dFEYjw"
      },
      "source": [
        "#### Collect statistics\n",
        "To properly assess the quality of our model, we'll need to run several times and compare the performance distribution.  Since this is time consuming, *only run this once you're getting reasonable results from single runs.*"
      ]
    },
    {
      "cell_type": "code",
      "execution_count": 116,
      "metadata": {
        "id": "SAgfYn-cEYjw",
        "colab": {
          "base_uri": "https://localhost:8080/"
        },
        "outputId": "0e35155c-d256-4693-8007-6fce36c2a0fd"
      },
      "outputs": [
        {
          "output_type": "stream",
          "name": "stdout",
          "text": [
            "Starting training for experiment 1\n",
            "Early stopping at 354 epochs\n",
            "Leaderboard:  Test Acc=0.7174 +/- 0.0029, Val Acc=0.73 +/- 0.0017\n",
            "Yours:        Test Acc=0.7204,            Val Acc=0.7301\n",
            "\n",
            "Training complete\n",
            "\n",
            "Starting training for experiment 2\n",
            "Early stopping at 291 epochs\n",
            "Leaderboard:  Test Acc=0.7174 +/- 0.0029, Val Acc=0.73 +/- 0.0017\n",
            "Yours:        Test Acc=0.7174,            Val Acc=0.7294\n",
            "\n",
            "Training complete\n",
            "\n",
            "Starting training for experiment 3\n",
            "Early stopping at 361 epochs\n",
            "Leaderboard:  Test Acc=0.7174 +/- 0.0029, Val Acc=0.73 +/- 0.0017\n",
            "Yours:        Test Acc=0.7192,            Val Acc=0.7303\n",
            "\n",
            "Training complete\n",
            "\n",
            "Starting training for experiment 4\n",
            "Early stopping at 413 epochs\n",
            "Leaderboard:  Test Acc=0.7174 +/- 0.0029, Val Acc=0.73 +/- 0.0017\n",
            "Yours:        Test Acc=0.7208,            Val Acc=0.7312\n",
            "\n",
            "Training complete\n",
            "\n",
            "Starting training for experiment 5\n",
            "Early stopping at 476 epochs\n",
            "Leaderboard:  Test Acc=0.7174 +/- 0.0029, Val Acc=0.73 +/- 0.0017\n",
            "Yours:        Test Acc=0.7195,            Val Acc=0.7320\n",
            "\n",
            "Training complete\n",
            "\n",
            "Starting training for experiment 6\n",
            "Early stopping at 422 epochs\n",
            "Leaderboard:  Test Acc=0.7174 +/- 0.0029, Val Acc=0.73 +/- 0.0017\n",
            "Yours:        Test Acc=0.7204,            Val Acc=0.7308\n",
            "\n",
            "Training complete\n",
            "\n",
            "Starting training for experiment 7\n",
            "Early stopping at 317 epochs\n",
            "Leaderboard:  Test Acc=0.7174 +/- 0.0029, Val Acc=0.73 +/- 0.0017\n",
            "Yours:        Test Acc=0.7210,            Val Acc=0.7309\n",
            "\n",
            "Training complete\n",
            "\n",
            "Starting training for experiment 8\n",
            "Early stopping at 243 epochs\n",
            "Leaderboard:  Test Acc=0.7174 +/- 0.0029, Val Acc=0.73 +/- 0.0017\n",
            "Yours:        Test Acc=0.7195,            Val Acc=0.7279\n",
            "\n",
            "Training complete\n",
            "\n",
            "Starting training for experiment 9\n",
            "Early stopping at 272 epochs\n",
            "Leaderboard:  Test Acc=0.7174 +/- 0.0029, Val Acc=0.73 +/- 0.0017\n",
            "Yours:        Test Acc=0.7181,            Val Acc=0.7297\n",
            "\n",
            "Training complete\n",
            "\n",
            "Starting training for experiment 10\n",
            "Early stopping at 278 epochs\n",
            "Leaderboard:  Test Acc=0.7174 +/- 0.0029, Val Acc=0.73 +/- 0.0017\n",
            "Yours:        Test Acc=0.7215,            Val Acc=0.7300\n",
            "\n",
            "Training complete\n",
            "\n"
          ]
        }
      ],
      "source": [
        "df_gcn = get_experiment_stats(\n",
        "    model_cls=GCN, model_args=model_kwargs,\n",
        "    train_args=train_args, n_experiments=10\n",
        ")"
      ]
    },
    {
      "cell_type": "code",
      "execution_count": 117,
      "metadata": {
        "id": "gxFdbk83EYjx",
        "colab": {
          "base_uri": "https://localhost:8080/",
          "height": 281
        },
        "outputId": "46a670e8-b893-4cd5-eb9a-2f33ae65bc3b"
      },
      "outputs": [
        {
          "output_type": "display_data",
          "data": {
            "text/plain": [
              "<Figure size 432x288 with 1 Axes>"
            ],
            "image/png": "[encoded data removed]"
          },
          "metadata": {
            "needs_background": "light"
          }
        }
      ],
      "source": [
        "norm_plot(\n",
        "    [\n",
        "        (test_acc_lb, test_acc_lb_var, 'Leaderboard'), \n",
        "        (df_gcn.loc['mean', 'test_acc'], df_gcn.loc['std', 'test_acc'], 'GCN'),\n",
        "    ],\n",
        "    'Test Performance'\n",
        ")"
      ]
    },
    {
      "cell_type": "code",
      "execution_count": 118,
      "metadata": {
        "id": "IzjZ0N9eEYjx",
        "colab": {
          "base_uri": "https://localhost:8080/"
        },
        "outputId": "0eff3049-3fd8-407e-c85d-9b2a50390994"
      },
      "outputs": [
        {
          "output_type": "stream",
          "name": "stdout",
          "text": [
            "Mean Test Accuracy Improvement: 0.0024\n",
            "Probability that these are from the same performance distribution = 4%\n"
          ]
        }
      ],
      "source": [
        "# Conduct a Welch's t-test to determine if the means are different with statistical significance \n",
        "_, p = stats.ttest_ind_from_stats(\n",
        "    test_acc_lb, test_acc_lb_var, 10,\n",
        "    df_gcn.loc['mean', 'test_acc'], df_gcn.loc['std', 'test_acc'], 10,\n",
        "    equal_var=False,\n",
        ")\n",
        "print(f\"Mean Test Accuracy Improvement: {(df_gcn.loc['mean', 'test_acc'] - test_acc_lb):.4f}\")\n",
        "print(f\"Probability that these are from the same performance distribution = {p*100:.0f}%\")"
      ]
    },
    {
      "cell_type": "markdown",
      "metadata": {
        "id": "2KTNmXQ9EYjx"
      },
      "source": [
        "# Improvements\n",
        "Now that we can match the GCN performance from the Leaderboard we can go about improving upon it.  In this section, we will implement a few ideas from the [\"Bag of Tricks\"](https://arxiv.org/abs/2103.13355) paper.  Specifically, we will implement:\n",
        "\n",
        "1. The \"Loge\" loss function they propose\n",
        "2. Linear projected skip connections + Input Dropout (also with Loge loss)\n",
        "\n",
        "These changes should result in climbing several positions up the Leaderboard.  "
      ]
    },
    {
      "cell_type": "code",
      "execution_count": 165,
      "metadata": {
        "id": "CrYdLf-uEYjx"
      },
      "outputs": [],
      "source": [
        "def loge(x, labels):\n",
        "    \"\"\"\n",
        "    The \"Loge\" loss function described in the paper.  Should take the same inputs\n",
        "    as the `F.cross_entropy` functional of torch.\n",
        "    \n",
        "    Use `epsilon = 1 - math.log(2)` and take the average across the batch\n",
        "\n",
        "    Args:\n",
        "        x (Tensor): the model predictions\n",
        "        labels (Tensor): node labels\n",
        "        \n",
        "    Returns:\n",
        "        The average Loge loss across the batch\n",
        "    \"\"\"\n",
        "    # TODO\n",
        "    # Implement the Loge loss function described in the paper)\n",
        "    epsilon = 1 - math.log(2)\n",
        "    z = F.cross_entropy(x, labels, reduction = \"none\")\n",
        "    return torch.mean(torch.log(epsilon + z) - math.log(epsilon))\n",
        "    # epsilon = 1 - np.log(2)\n",
        "    # loge = np.mean(np.log(epsilon + z) - np.log(epsilon))\n",
        "    # return torch.Tensor(loge)\n",
        "    pass"
      ]
    },
    {
      "cell_type": "code",
      "execution_count": 166,
      "metadata": {
        "id": "fBCtvzjHEYjy"
      },
      "outputs": [],
      "source": [
        "model_loge_kwargs = dict(\n",
        "    # TODO: Add your parameter values\n",
        "    in_features = g.ndata['feat'].shape[1], out_features = dataset.num_classes\n",
        ")\n",
        "model_loge = GCN(**model_loge_kwargs).to(device)"
      ]
    },
    {
      "cell_type": "code",
      "execution_count": 167,
      "metadata": {
        "id": "tW3cYqJnEYjy"
      },
      "outputs": [],
      "source": [
        "gcn_loge_path = f\"{model_path}/gcn_loge.model\""
      ]
    },
    {
      "cell_type": "code",
      "execution_count": 168,
      "metadata": {
        "id": "hvfIc8pzEYjy"
      },
      "outputs": [],
      "source": [
        "train_loge_args = dict(\n",
        "    g=g, labels=labels, split_idx=split_idx, \n",
        "    epochs=500, evaluator=evaluator, device=device, \n",
        "    save_path=gcn_loge_path, lr=5e-3, es_criteria=50,\n",
        "    loss_fn=loge # this changes the loss function to use \"loge\"\n",
        ")"
      ]
    },
    {
      "cell_type": "code",
      "execution_count": 169,
      "metadata": {
        "id": "h5IRVXMNEYjy",
        "colab": {
          "base_uri": "https://localhost:8080/"
        },
        "outputId": "bee1eb22-404b-4b36-cbcb-440bb5e40324"
      },
      "outputs": [
        {
          "output_type": "stream",
          "name": "stdout",
          "text": [
            "In epoch 50, loss: 0.888, val acc: 0.699 (best 0.699), test acc: 0.692 (best 0.692)\n",
            "In epoch 100, loss: 0.807, val acc: 0.723 (best 0.724), test acc: 0.708 (best 0.708)\n",
            "In epoch 150, loss: 0.764, val acc: 0.718 (best 0.728), test acc: 0.703 (best 0.721)\n",
            "In epoch 200, loss: 0.735, val acc: 0.728 (best 0.735), test acc: 0.716 (best 0.726)\n",
            "Early stopping at 245 epochs\n"
          ]
        }
      ],
      "source": [
        "train_losses, val_losses = train(model=model_loge, verbose=True, **train_loge_args)"
      ]
    },
    {
      "cell_type": "code",
      "execution_count": 170,
      "metadata": {
        "id": "WO4e76iAEYjz",
        "colab": {
          "base_uri": "https://localhost:8080/",
          "height": 279
        },
        "outputId": "b0dd3057-de9f-4ecb-e907-2461d46d55a2"
      },
      "outputs": [
        {
          "output_type": "display_data",
          "data": {
            "text/plain": [
              "<Figure size 432x288 with 1 Axes>"
            ],
            "image/png": "[encoded data removed]"
          },
          "metadata": {
            "needs_background": "light"
          }
        }
      ],
      "source": [
        "plot_losses(train_losses, val_losses, log=True)"
      ]
    },
    {
      "cell_type": "code",
      "execution_count": 171,
      "metadata": {
        "id": "1npeaVM_EYjz",
        "colab": {
          "base_uri": "https://localhost:8080/"
        },
        "outputId": "b834efd9-41d3-4d34-eb8b-4a2d6fb8f8c0"
      },
      "outputs": [
        {
          "output_type": "stream",
          "name": "stdout",
          "text": [
            "Leaderboard:  Test Acc=0.7174 +/- 0.0029, Val Acc=0.73 +/- 0.0017\n",
            "Yours:        Test Acc=0.7262,            Val Acc=0.7347\n",
            "\n",
            "Validation performance is better than LB.  Expected upper bound of 0.7317, but got 0.7347.\n",
            "Test performance is better than LB.  Expected upper bound of 0.7203, but got 0.7262.\n"
          ]
        }
      ],
      "source": [
        "_ = characterize_performance(model_loge, g, labels, split_idx, evaluator, gcn_loge_path, verbose=True)"
      ]
    },
    {
      "cell_type": "markdown",
      "metadata": {
        "id": "apU9DaHSEYjz"
      },
      "source": [
        "#### Collect statistics"
      ]
    },
    {
      "cell_type": "code",
      "execution_count": 173,
      "metadata": {
        "id": "Y0RkUhcREYjz",
        "colab": {
          "base_uri": "https://localhost:8080/"
        },
        "outputId": "113ab25c-1cfa-478b-8a63-c751974183ed"
      },
      "outputs": [
        {
          "output_type": "stream",
          "name": "stdout",
          "text": [
            "Starting training for experiment 1\n",
            "Early stopping at 254 epochs\n",
            "Leaderboard:  Test Acc=0.7174 +/- 0.0029, Val Acc=0.73 +/- 0.0017\n",
            "Yours:        Test Acc=0.7243,            Val Acc=0.7337\n",
            "\n",
            "Training complete\n",
            "\n",
            "Starting training for experiment 2\n",
            "Early stopping at 347 epochs\n",
            "Leaderboard:  Test Acc=0.7174 +/- 0.0029, Val Acc=0.73 +/- 0.0017\n",
            "Yours:        Test Acc=0.7272,            Val Acc=0.7349\n",
            "\n",
            "Training complete\n",
            "\n",
            "Starting training for experiment 3\n",
            "Early stopping at 313 epochs\n",
            "Leaderboard:  Test Acc=0.7174 +/- 0.0029, Val Acc=0.73 +/- 0.0017\n",
            "Yours:        Test Acc=0.7183,            Val Acc=0.7342\n",
            "\n",
            "Training complete\n",
            "\n",
            "Starting training for experiment 4\n",
            "Early stopping at 408 epochs\n",
            "Leaderboard:  Test Acc=0.7174 +/- 0.0029, Val Acc=0.73 +/- 0.0017\n",
            "Yours:        Test Acc=0.7215,            Val Acc=0.7341\n",
            "\n",
            "Training complete\n",
            "\n",
            "Starting training for experiment 5\n",
            "Early stopping at 310 epochs\n",
            "Leaderboard:  Test Acc=0.7174 +/- 0.0029, Val Acc=0.73 +/- 0.0017\n",
            "Yours:        Test Acc=0.7239,            Val Acc=0.7331\n",
            "\n",
            "Training complete\n",
            "\n"
          ]
        }
      ],
      "source": [
        "df_loge = get_experiment_stats(\n",
        "    model_cls=GCN, model_args=model_loge_kwargs,\n",
        "    train_args=train_loge_args, n_experiments=5\n",
        ")"
      ]
    },
    {
      "cell_type": "code",
      "execution_count": 174,
      "metadata": {
        "id": "jDYpsKcWEYj0",
        "colab": {
          "base_uri": "https://localhost:8080/",
          "height": 281
        },
        "outputId": "b351be4f-e316-4792-97e4-177b7b4d6ce5"
      },
      "outputs": [
        {
          "output_type": "display_data",
          "data": {
            "text/plain": [
              "<Figure size 432x288 with 1 Axes>"
            ],
            "image/png": "[encoded data removed]"
          },
          "metadata": {
            "needs_background": "light"
          }
        }
      ],
      "source": [
        "norm_plot(\n",
        "    [\n",
        "        (test_acc_lb, test_acc_lb_var, 'Leaderboard'), \n",
        "        (df_gcn.loc['mean', 'test_acc'], df_gcn.loc['std', 'test_acc'], 'GCN'),\n",
        "        (df_loge.loc['mean', 'test_acc'], df_loge.loc['std', 'test_acc'], 'Loge Loss Func'),\n",
        "    ],\n",
        "    'Test Performance'\n",
        ")"
      ]
    },
    {
      "cell_type": "code",
      "execution_count": 175,
      "metadata": {
        "id": "jCQ93SYlEYj0",
        "colab": {
          "base_uri": "https://localhost:8080/"
        },
        "outputId": "25aca590-726f-4581-e162-f95dae16c377"
      },
      "outputs": [
        {
          "output_type": "stream",
          "name": "stdout",
          "text": [
            "Mean Test Accuracy Improvement: 0.0057\n",
            "Probability that these are from the same performance distribution = 0%\n"
          ]
        }
      ],
      "source": [
        "# Conduct a Welch's t-test to determine if the means are different with statistical significance \n",
        "_, p = stats.ttest_ind_from_stats(\n",
        "    test_acc_lb, test_acc_lb_var, 10,\n",
        "    df_loge.loc['mean', 'test_acc'], df_loge.loc['std', 'test_acc'], 10,\n",
        "    equal_var=False,\n",
        ")\n",
        "print(f\"Mean Test Accuracy Improvement: {(df_loge.loc['mean', 'test_acc'] - test_acc_lb):.4f}\")\n",
        "print(f\"Probability that these are from the same performance distribution = {p*100:.0f}%\")"
      ]
    },
    {
      "cell_type": "markdown",
      "metadata": {
        "id": "6Lc4pZWLEYj0"
      },
      "source": [
        "## Linear skip connections + Input Dropout\n",
        "Here we will implement a skip connection that adds (a linear transformation of) the input to the output of the Graph Convolution layer.  Additionally, we will add Dropout to the raw input features.  See the paper for more details."
      ]
    },
    {
      "cell_type": "code",
      "execution_count": 212,
      "metadata": {
        "id": "WY-kXCGYEYj1"
      },
      "outputs": [],
      "source": [
        "class GCNwLinear(nn.Module):\n",
        "    def __init__(self, in_features, out_features): # TODO: add your arguments\n",
        "        \n",
        "        super(GCNwLinear, self).__init__()\n",
        "        # TODO \n",
        "        \"\"\"\n",
        "        In addition to GCN from before, create the linear layers to operate on the \n",
        "        input of each GraphConv layer.  As before, also create Batch Norm layers for \n",
        "        all GraphConv layers *except the last one*.\n",
        "        \n",
        "        All layers except the last should support Dropout.  \n",
        "        \n",
        "        For the *input dropout*, it should be as follows:\n",
        "            `self.input_drop = nn.Dropout(min(0.1, dropout))`\n",
        "            \n",
        "        which means that while the network layers can have any value of Dropout, the input\n",
        "        features never receive more than 0.1 dropout rate.\n",
        "        \n",
        "        To re-create my results, only use a bias in *last* GraphConv layer\n",
        "        and none of the linear layers or earlier GraphConv layers.\n",
        "        \"\"\"\n",
        "        # TODO\n",
        "        \n",
        "        self.hidden_dim = 256\n",
        "        # Input layer: dropout, Linear, GraphConv, BatchNorm\n",
        "        self.dropout = nn.Dropout(0.08)\n",
        "        self.linear1 = nn.Linear(in_features, self.hidden_dim, bias = False)\n",
        "        self.conv1 = GraphConv(in_features, self.hidden_dim, bias = False)\n",
        "        self.bn1 = nn.BatchNorm1d(self.hidden_dim)\n",
        "        \n",
        "        # Hidden layers: dropout, Linear, GraphConv, BatchNorm\n",
        "        self.linear2 = nn.Linear(self.hidden_dim, self.hidden_dim, bias = False)\n",
        "        self.conv2 = GraphConv(self.hidden_dim, self.hidden_dim, bias = False)\n",
        "        self.bn2 = nn.BatchNorm1d(self.hidden_dim)\n",
        "        \n",
        "        # Output layer: GraphConv, Linear\n",
        "        self.conv3 = GraphConv(self.hidden_dim, out_features)\n",
        "        self.linear3 = nn.Linear(self.hidden_dim, out_features, bias = False)\n",
        "        pass\n",
        "\n",
        "    def forward(self, g, in_feat):\n",
        "        \"\"\"\n",
        "        The forward pass of the model, which applies all of the layers\n",
        "        to a given graph and set of node features\n",
        "        \n",
        "        Args:\n",
        "            g (DGLGraph): the graph used for Graph Convolutions\n",
        "            in_feat (Tensor): the node features\n",
        "            \n",
        "        Returns:\n",
        "            the logits of the model as a Tensor, in which *no final activation function\n",
        "            has been applied*.\n",
        "        \"\"\"\n",
        "        # TODO\n",
        "        x = self.dropout(in_feat) \n",
        "        c = self.conv1(g, x)\n",
        "        linear = self.linear1(x)\n",
        "        x = c + linear\n",
        "        x = self.bn1(x)\n",
        "        x = F.relu(x) \n",
        "        x = self.dropout(x)\n",
        "\n",
        "        c = self.conv2(g, x)\n",
        "        linear = self.linear2(x)\n",
        "        x = c + linear \n",
        "        x = self.bn2(x)\n",
        "        x = F.relu(x) \n",
        "        x = self.dropout(x)\n",
        "\n",
        "        c = self.conv3(g, x)\n",
        "        linear = self.linear3(x)\n",
        "        x = c+linear\n",
        "        return x\n",
        "\n",
        "        pass"
      ]
    },
    {
      "cell_type": "code",
      "source": [
        "dataset.num_classes"
      ],
      "metadata": {
        "colab": {
          "base_uri": "https://localhost:8080/"
        },
        "id": "fH7CkUxr7hfI",
        "outputId": "eb1d4a8b-c18a-4cdb-aadb-6e64c8d11fe4"
      },
      "execution_count": 213,
      "outputs": [
        {
          "output_type": "execute_result",
          "data": {
            "text/plain": [
              "40"
            ]
          },
          "metadata": {},
          "execution_count": 213
        }
      ]
    },
    {
      "cell_type": "code",
      "execution_count": 214,
      "metadata": {
        "id": "HX_QTE6OEYj2"
      },
      "outputs": [],
      "source": [
        "model_linear_kwargs = dict(\n",
        "    # TODO: Add your parameter values\n",
        "    in_features = g.ndata['feat'].shape[1], out_features = dataset.num_classes\n",
        ")\n",
        "model_linear = GCNwLinear(**model_linear_kwargs).to(device)"
      ]
    },
    {
      "cell_type": "code",
      "execution_count": 215,
      "metadata": {
        "id": "UiS-Nm9hEYj2",
        "colab": {
          "base_uri": "https://localhost:8080/"
        },
        "outputId": "f26e9428-7f4c-4b75-9943-f567a439e707"
      },
      "outputs": [
        {
          "output_type": "stream",
          "name": "stdout",
          "text": [
            "218152\n"
          ]
        }
      ],
      "source": [
        "# If this fails, the number of parameters in your model doesn't match mine (assuming 3 graphconv layers)\n",
        "linear_parms = 218152\n",
        "model_linear_parms = sum(p.numel() for p in model_linear.parameters() if p.requires_grad)\n",
        "print(model_linear_parms)\n",
        "assert linear_parms == model_linear_parms, \"Number of model parameters different than Leaderboard's\""
      ]
    },
    {
      "cell_type": "code",
      "execution_count": 216,
      "metadata": {
        "id": "Mw5EYWSEEYj3"
      },
      "outputs": [],
      "source": [
        "gcn_linear_path = f\"{model_path}/gcn_linear.model\""
      ]
    },
    {
      "cell_type": "code",
      "execution_count": 217,
      "metadata": {
        "id": "L-5RnG5JEYj3"
      },
      "outputs": [],
      "source": [
        "train_linear_args = dict(\n",
        "    g=g, labels=labels, split_idx=split_idx, \n",
        "    epochs=500, evaluator=evaluator, device=device, \n",
        "    save_path=gcn_linear_path, lr=5e-3, es_criteria=50,\n",
        "    loss_fn=loge\n",
        ")"
      ]
    },
    {
      "cell_type": "code",
      "execution_count": 218,
      "metadata": {
        "id": "EEM0BAStEYj3",
        "colab": {
          "base_uri": "https://localhost:8080/"
        },
        "outputId": "0ce5c519-44d4-424c-84c4-208f08c19358"
      },
      "outputs": [
        {
          "output_type": "stream",
          "name": "stdout",
          "text": [
            "In epoch 50, loss: 0.839, val acc: 0.709 (best 0.709), test acc: 0.700 (best 0.700)\n",
            "In epoch 100, loss: 0.716, val acc: 0.706 (best 0.725), test acc: 0.674 (best 0.717)\n",
            "In epoch 150, loss: 0.635, val acc: 0.716 (best 0.728), test acc: 0.691 (best 0.717)\n",
            "In epoch 200, loss: 0.574, val acc: 0.727 (best 0.728), test acc: 0.717 (best 0.718)\n",
            "Early stopping at 232 epochs\n"
          ]
        }
      ],
      "source": [
        "train_losses, val_losses = train(model=model_linear, verbose=True, **train_linear_args)"
      ]
    },
    {
      "cell_type": "code",
      "execution_count": 219,
      "metadata": {
        "id": "wM1xB5f_EYj4",
        "colab": {
          "base_uri": "https://localhost:8080/",
          "height": 279
        },
        "outputId": "9ef67389-368e-4f07-8d2e-b9eca80d8753"
      },
      "outputs": [
        {
          "output_type": "display_data",
          "data": {
            "text/plain": [
              "<Figure size 432x288 with 1 Axes>"
            ],
            "image/png": "[encoded data removed]"
          },
          "metadata": {
            "needs_background": "light"
          }
        }
      ],
      "source": [
        "plot_losses(train_losses, val_losses, log=True)"
      ]
    },
    {
      "cell_type": "code",
      "execution_count": 220,
      "metadata": {
        "id": "NqV8iItWEYj4",
        "colab": {
          "base_uri": "https://localhost:8080/"
        },
        "outputId": "7a4f846e-66e4-48f7-e28d-11915ddd9eae"
      },
      "outputs": [
        {
          "output_type": "stream",
          "name": "stdout",
          "text": [
            "Leaderboard:  Test Acc=0.7174 +/- 0.0029, Val Acc=0.73 +/- 0.0017\n",
            "Yours:        Test Acc=0.7176,            Val Acc=0.7284\n",
            "\n",
            "Validation performance is in the expected range of 0.7283 - 0.7317.\n",
            "Test performance is in the expected range of 0.7145 - 0.7203.\n"
          ]
        }
      ],
      "source": [
        "_ = characterize_performance(model_linear, g, labels, split_idx, evaluator, gcn_linear_path, verbose=True)"
      ]
    },
    {
      "cell_type": "markdown",
      "metadata": {
        "id": "AB_Uq3SNEYj6"
      },
      "source": [
        "### Stats\n",
        "Do this for 10 iterations to get some statistics"
      ]
    },
    {
      "cell_type": "code",
      "execution_count": 222,
      "metadata": {
        "scrolled": true,
        "id": "xv78XgNxEYj7",
        "colab": {
          "base_uri": "https://localhost:8080/"
        },
        "outputId": "511eab14-2892-4ade-9b73-3aee2d524810"
      },
      "outputs": [
        {
          "output_type": "stream",
          "name": "stdout",
          "text": [
            "Starting training for experiment 1\n",
            "Early stopping at 204 epochs\n",
            "Leaderboard:  Test Acc=0.7174 +/- 0.0029, Val Acc=0.73 +/- 0.0017\n",
            "Yours:        Test Acc=0.7184,            Val Acc=0.7305\n",
            "\n",
            "Training complete\n",
            "\n",
            "Starting training for experiment 2\n",
            "Early stopping at 221 epochs\n",
            "Leaderboard:  Test Acc=0.7174 +/- 0.0029, Val Acc=0.73 +/- 0.0017\n",
            "Yours:        Test Acc=0.7189,            Val Acc=0.7308\n",
            "\n",
            "Training complete\n",
            "\n",
            "Starting training for experiment 3\n",
            "Early stopping at 209 epochs\n",
            "Leaderboard:  Test Acc=0.7174 +/- 0.0029, Val Acc=0.73 +/- 0.0017\n",
            "Yours:        Test Acc=0.7193,            Val Acc=0.7302\n",
            "\n",
            "Training complete\n",
            "\n",
            "Starting training for experiment 4\n",
            "Early stopping at 231 epochs\n",
            "Leaderboard:  Test Acc=0.7174 +/- 0.0029, Val Acc=0.73 +/- 0.0017\n",
            "Yours:        Test Acc=0.7192,            Val Acc=0.7327\n",
            "\n",
            "Training complete\n",
            "\n",
            "Starting training for experiment 5\n",
            "Early stopping at 212 epochs\n",
            "Leaderboard:  Test Acc=0.7174 +/- 0.0029, Val Acc=0.73 +/- 0.0017\n",
            "Yours:        Test Acc=0.7234,            Val Acc=0.7314\n",
            "\n",
            "Training complete\n",
            "\n"
          ]
        }
      ],
      "source": [
        "df_linear = get_experiment_stats(\n",
        "    model_cls=GCNwLinear, model_args=model_linear_kwargs,\n",
        "    train_args=train_linear_args, n_experiments=5\n",
        ")"
      ]
    },
    {
      "cell_type": "code",
      "execution_count": 223,
      "metadata": {
        "id": "ajkhBsrZEYj7",
        "colab": {
          "base_uri": "https://localhost:8080/",
          "height": 281
        },
        "outputId": "3c1a03c7-e5b5-4774-8183-46986bb47936"
      },
      "outputs": [
        {
          "output_type": "display_data",
          "data": {
            "text/plain": [
              "<Figure size 432x288 with 1 Axes>"
            ],
            "image/png": "[encoded data removed]"
          },
          "metadata": {
            "needs_background": "light"
          }
        }
      ],
      "source": [
        "norm_plot(\n",
        "    [\n",
        "        (test_acc_lb, test_acc_lb_var, 'Leaderboard'), \n",
        "        (df_gcn.loc['mean', 'test_acc'], df_gcn.loc['std', 'test_acc'], 'GCN'),\n",
        "        (df_loge.loc['mean', 'test_acc'], df_loge.loc['std', 'test_acc'], 'Loge Loss Func'), \n",
        "        (df_linear.loc['mean', 'test_acc'], df_linear.loc['std', 'test_acc'], 'Linear Skip'),\n",
        "    ],\n",
        "    'Test Performance'\n",
        ")"
      ]
    },
    {
      "cell_type": "code",
      "execution_count": 224,
      "metadata": {
        "id": "V76xQmRwEYj8",
        "colab": {
          "base_uri": "https://localhost:8080/"
        },
        "outputId": "384e5b88-7ec9-4252-bab9-6f2623eaf236"
      },
      "outputs": [
        {
          "output_type": "stream",
          "name": "stdout",
          "text": [
            "Mean Test Accuracy Improvement: 0.0024\n",
            "Probability that these are the same = 4%\n"
          ]
        }
      ],
      "source": [
        "_, p = stats.ttest_ind_from_stats(\n",
        "    test_acc_lb, test_acc_lb_var, 10,\n",
        "    df_linear.loc['mean', 'test_acc'], df_linear.loc['std', 'test_acc'], 10,\n",
        "    equal_var=False, #alternative='two-sided',\n",
        ")\n",
        "print(f\"Mean Test Accuracy Improvement: {(df_linear.loc['mean', 'test_acc'] - test_acc_lb):.4f}\")\n",
        "print(f\"Probability that these are the same = {p*100:.0f}%\")"
      ]
    },
    {
      "cell_type": "markdown",
      "metadata": {
        "id": "tVK3Q_U8EYj8"
      },
      "source": [
        "### Results summary\n",
        "Although your results might be different, I achieve a mean Test performance of 0.7231 +/- 0.0031.  As of the time of writing, GCN is at position 39 on the leaderboard, but we would be placed at position 30 with these improvements.  The authors of the \"Bag of Tricks\" paper are in position 23 with mean Test performance of 0.7306."
      ]
    },
    {
      "cell_type": "markdown",
      "metadata": {
        "id": "HI2U95OFEYj8"
      },
      "source": [
        "# Extra Credit\n",
        "There are at least two paths you can take:  \n",
        "\n",
        "## More \"Bag of Tricks\" improvements\n",
        "We implemented the \"Loge\" loss function and added the \"Linear + Skip Connections\" component, but there are many other tweaks presented in the paper, some of which are already on the leaderboard and demonstrate significant gains.  Some specific ideas:\n",
        "- Implement \"Label as input\", where the training set is randomly split such that half the nodes use a one-hot-encoding of the label as an input feature and the other half use dummy values of zeros.  This is an attempt to bring the benefits of Label Propagation to GNNs\n",
        "- Implement \"Label reuse\", where instead of using dummy values for half of the training data's \"label features\", you instead use model predictions from the previous iteration (i.e., \"soft labels\")\n",
        "- Switch from GCN layers to Graph Attention Networks (GAT) and implement the tricks presented in the paper, like using the symmetric normalized adjacency matrix\n",
        "\n",
        "## Find another paper\n",
        "The Leaderboard contains a wide variety of approaches, all with linked papers and code.  Look around and choose one that's interesting.  For example, many top positions as of this writing appear to use self-Knowledge Distillation (\"self-KD\"), so this may be worth exploring."
      ]
    },
    {
      "cell_type": "code",
      "execution_count": null,
      "metadata": {
        "id": "BRZH7CQnEYj8"
      },
      "outputs": [],
      "source": [
        "# TODO"
      ]
    }
  ],
  "metadata": {
    "kernelspec": {
      "display_name": "conda_pytorch_latest_p36",
      "language": "python",
      "name": "conda_pytorch_latest_p36"
    },
    "language_info": {
      "codemirror_mode": {
        "name": "ipython",
        "version": 3
      },
      "file_extension": ".py",
      "mimetype": "text/x-python",
      "name": "python",
      "nbconvert_exporter": "python",
      "pygments_lexer": "ipython3",
      "version": "3.6.13"
    },
    "colab": {
      "name": "ogb_arxiv_GCN.ipynb",
      "provenance": [],
      "machine_shape": "hm",
      "collapsed_sections": [
        "tVK3Q_U8EYj8"
      ]
    },
    "accelerator": "GPU"
  },
  "nbformat": 4,
  "nbformat_minor": 0
}